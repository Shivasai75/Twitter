{
 "cells": [
  {
   "cell_type": "code",
   "execution_count": 1,
   "metadata": {},
   "outputs": [
    {
     "name": "stdout",
     "output_type": "stream",
     "text": [
      "['Pushpa', 'Salute2DelhiPolice', 'LalaLajpatRai', 'Salaar', 'FarmersStandingFirm', 'CBI Unearth SSR Case', 'पंजाब केसरी', 'GameStop', 'महान स्वतंत्रता सेनानी', 'UP Police', 'श्री हरि', 'Aam Aadmi Party', 'cow milk party', 'Reddit', 'Singh Ji Insan', 'Jinyoung', 'Saint Dr.', 'Martial', 'Sheffield', 'Hire', 'Useless', 'alluarjun', 'HBDShrutiHaasan', 'ThursdayThoughts', 'thursdaymorning', 'Prabhas', 'thursdayvibes', 'ਖੜਾਂਗੇ_ਅੜਾਂਗੇ_ਲੜਾਂਗੇ_ਜਿੱਤਾਂਗੇ', 'PunjabKesari', 'KutchWelcomesCRPaatil', '500DaysOfDidiKeBolo', 'DelhiViolenceConspiracy', 'BLACKPINKxCORDEN', 'ThursdayMotivation', 'தைப்பூசம்', 'Seetimaarr', 'लाला_लाजपत_राय', 'MyFavouriteParty', 'Sukumar', 'Ghani', 'GoogleKuttappan', 'KSRavikumar', 'ThaiPoosam', 'किसान_आंदोलन_जारी_रहेगा', 'MunawarFaruqi', 'தைபூசப்பெருவிழா', 'GodMorningThursday', 'DataPrivacyDay', 'ArrestRajdeepNow', 'MSSxGoodDay']\n",
      "['Pushpa', 'Salute2DelhiPolice', 'LalaLajpatRai', 'Salaar', 'FarmersStandingFirm', 'CBI Unearth SSR Case', 'पंजाब केसरी', 'GameStop', 'महान स्वतंत्रता सेनानी', 'UP Police', 'श्री हरि', 'Aam Aadmi Party', 'cow milk party', 'Reddit', 'Singh Ji Insan', 'Jinyoung', 'Saint Dr.', 'Martial', 'Sheffield', 'Hire', 'Useless', 'alluarjun', 'HBDShrutiHaasan', 'ThursdayThoughts', 'thursdaymorning', 'Prabhas', 'thursdayvibes', 'ਖੜਾਂਗੇ_ਅੜਾਂਗੇ_ਲੜਾਂਗੇ_ਜਿੱਤਾਂਗੇ', 'PunjabKesari', 'KutchWelcomesCRPaatil', '500DaysOfDidiKeBolo', 'DelhiViolenceConspiracy', 'BLACKPINKxCORDEN', 'ThursdayMotivation', 'தைப்பூசம்', 'Seetimaarr', 'लाला_लाजपत_राय', 'MyFavouriteParty', 'Sukumar', 'Ghani', 'GoogleKuttappan', 'KSRavikumar', 'ThaiPoosam', 'किसान_आंदोलन_जारी_रहेगा', 'MunawarFaruqi', 'தைபூசப்பெருவிழா', 'GodMorningThursday', 'DataPrivacyDay', 'ArrestRajdeepNow', 'MSSxGoodDay']\n"
     ]
    }
   ],
   "source": [
    "import sys\n",
    "import tweepy\n",
    "import json\n",
    "\n",
    "#Autenticações\n",
    "consumer_key = 'OfBS4N2enL8PEw2HJI0zS0WbI'\n",
    "consumer_secret = 'Siw8e7Kl7F29H0foRvR5lLeDlGD17V0tKZxxhoGBKm9Fk4x9gd'\n",
    "access_token = '2617230702-YFc611yMYaZKQSBc1BbR7SkUIw0QFlfk3h5kHmg'\n",
    "access_token_secret = 'xlKTTeqYuHUMXXXrKpdwm5CR54O8UZ2c8FsNTdjB4ZfOM'\n",
    "\n",
    "auth = tweepy.OAuthHandler(consumer_key, consumer_secret)\n",
    "auth.set_access_token(access_token, access_token_secret)\n",
    "api = tweepy.API(auth)\n",
    "\n",
    "# Where On Earth ID for India is 23424868.\n",
    "India_WOE_ID = 23424848\n",
    "\n",
    "\n",
    "india_trends = api.trends_place(India_WOE_ID)\n",
    "\n",
    "trends = json.loads(json.dumps(india_trends, indent=1))\n",
    "\n",
    "trending = []\n",
    "for trend in trends[0][\"trends\"]:\n",
    "    trending.append(trend[\"name\"])\n",
    "trending\n",
    "print([s.strip('#') for s in trending]) # remove the 8 from the string borders\n",
    "print([s.replace('#', '') for s in trending])"
   ]
  }
 ],
 "metadata": {
  "kernelspec": {
   "display_name": "Python 3",
   "language": "python",
   "name": "python3"
  },
  "language_info": {
   "codemirror_mode": {
    "name": "ipython",
    "version": 3
   },
   "file_extension": ".py",
   "mimetype": "text/x-python",
   "name": "python",
   "nbconvert_exporter": "python",
   "pygments_lexer": "ipython3",
   "version": "3.7.6"
  }
 },
 "nbformat": 4,
 "nbformat_minor": 4
}
